{
  "cells": [
    {
      "cell_type": "code",
      "execution_count": 1,
      "metadata": {
        "id": "gB7-OyGhG7Us",
        "outputId": "622dee0f-24ea-4207-eaab-9ccfd3328954",
        "colab": {
          "base_uri": "https://localhost:8080/"
        }
      },
      "outputs": [
        {
          "output_type": "execute_result",
          "data": {
            "text/plain": [
              "<torch._C.Generator at 0x7e36a07f3dd0>"
            ]
          },
          "metadata": {},
          "execution_count": 1
        }
      ],
      "source": [
        "%matplotlib inline\n",
        "from matplotlib import pyplot as plt\n",
        "import numpy as np\n",
        "import torch\n",
        "\n",
        "torch.set_printoptions(edgeitems=2)\n",
        "torch.manual_seed(123)"
      ]
    },
    {
      "cell_type": "code",
      "execution_count": 2,
      "metadata": {
        "id": "9edIrFUSG7Uu"
      },
      "outputs": [],
      "source": [
        "class_names = ['airplane','automobile','bird','cat','deer',\n",
        "               'dog','frog','horse','ship','truck']"
      ]
    },
    {
      "cell_type": "code",
      "execution_count": 3,
      "metadata": {
        "id": "X4BeUwCoG7Uv",
        "outputId": "82c928a5-0ec6-45b8-b359-ee85a16d07f9",
        "colab": {
          "base_uri": "https://localhost:8080/"
        }
      },
      "outputs": [
        {
          "output_type": "stream",
          "name": "stdout",
          "text": [
            "Downloading https://www.cs.toronto.edu/~kriz/cifar-10-python.tar.gz to p1ch7/cifar-10-python.tar.gz\n"
          ]
        },
        {
          "output_type": "stream",
          "name": "stderr",
          "text": [
            "100%|██████████| 170M/170M [00:18<00:00, 9.03MB/s]\n"
          ]
        },
        {
          "output_type": "stream",
          "name": "stdout",
          "text": [
            "Extracting p1ch7/cifar-10-python.tar.gz to p1ch7/\n"
          ]
        }
      ],
      "source": [
        "from torchvision import datasets, transforms\n",
        "data_path = 'p1ch7/'\n",
        "cifar10 = datasets.CIFAR10(\n",
        "    data_path, train=True, download=True,\n",
        "    transform=transforms.Compose([\n",
        "        transforms.ToTensor(),\n",
        "        transforms.Normalize((0.4915, 0.4823, 0.4468),\n",
        "                             (0.2470, 0.2435, 0.2616))\n",
        "    ]))"
      ]
    },
    {
      "cell_type": "code",
      "execution_count": 4,
      "metadata": {
        "id": "HoUnU51zG7Uv"
      },
      "outputs": [],
      "source": [
        "cifar10_val = datasets.CIFAR10(\n",
        "    data_path, train=False, download=False,\n",
        "    transform=transforms.Compose([\n",
        "        transforms.ToTensor(),\n",
        "        transforms.Normalize((0.4915, 0.4823, 0.4468),\n",
        "                             (0.2470, 0.2435, 0.2616))\n",
        "    ]))"
      ]
    },
    {
      "cell_type": "code",
      "execution_count": 5,
      "metadata": {
        "id": "0DOQ-7sVG7Uv"
      },
      "outputs": [],
      "source": [
        "label_map = {0: 0, 2: 1}\n",
        "class_names = ['airplane', 'bird']\n",
        "cifar2 = [(img, label_map[label])\n",
        "          for img, label in cifar10\n",
        "          if label in [0, 2]]\n",
        "cifar2_val = [(img, label_map[label])\n",
        "              for img, label in cifar10_val\n",
        "              if label in [0, 2]]"
      ]
    },
    {
      "cell_type": "code",
      "execution_count": 6,
      "metadata": {
        "id": "-5nZ3UU4G7Uv"
      },
      "outputs": [],
      "source": [
        "import torch.nn as nn\n",
        "\n",
        "n_out = 2\n",
        "\n",
        "model = nn.Sequential(\n",
        "            nn.Linear(\n",
        "                3072,  # <1>\n",
        "                512,   # <2>\n",
        "            ),\n",
        "            nn.Tanh(),\n",
        "            nn.Linear(\n",
        "                512,   # <2>\n",
        "                n_out, # <3>\n",
        "            )\n",
        "        )"
      ]
    },
    {
      "cell_type": "code",
      "execution_count": 7,
      "metadata": {
        "id": "znK1ERlNG7Uv"
      },
      "outputs": [],
      "source": [
        "def softmax(x):\n",
        "    return torch.exp(x) / torch.exp(x).sum()"
      ]
    },
    {
      "cell_type": "code",
      "execution_count": 8,
      "metadata": {
        "id": "dEC1nW4mG7Uw",
        "outputId": "ee264d2e-f3d0-43af-d33e-cdeb2288a7be",
        "colab": {
          "base_uri": "https://localhost:8080/"
        }
      },
      "outputs": [
        {
          "output_type": "execute_result",
          "data": {
            "text/plain": [
              "tensor([0.0900, 0.2447, 0.6652])"
            ]
          },
          "metadata": {},
          "execution_count": 8
        }
      ],
      "source": [
        "x = torch.tensor([1.0, 2.0, 3.0])\n",
        "\n",
        "softmax(x)"
      ]
    },
    {
      "cell_type": "code",
      "execution_count": 9,
      "metadata": {
        "id": "KF2xLJ_eG7Uw",
        "outputId": "df7a6c20-e4ad-4a2a-ea84-3b50909e49a7",
        "colab": {
          "base_uri": "https://localhost:8080/"
        }
      },
      "outputs": [
        {
          "output_type": "execute_result",
          "data": {
            "text/plain": [
              "tensor(1.)"
            ]
          },
          "metadata": {},
          "execution_count": 9
        }
      ],
      "source": [
        "softmax(x).sum()"
      ]
    },
    {
      "cell_type": "code",
      "execution_count": 10,
      "metadata": {
        "id": "YsWPHQJ3G7Uw",
        "outputId": "aef69864-b742-4e9b-990f-67a26eff6446",
        "colab": {
          "base_uri": "https://localhost:8080/"
        }
      },
      "outputs": [
        {
          "output_type": "execute_result",
          "data": {
            "text/plain": [
              "tensor([[0.0900, 0.2447, 0.6652],\n",
              "        [0.0900, 0.2447, 0.6652]])"
            ]
          },
          "metadata": {},
          "execution_count": 10
        }
      ],
      "source": [
        "softmax = nn.Softmax(dim=1)\n",
        "\n",
        "x = torch.tensor([[1.0, 2.0, 3.0],\n",
        "                  [1.0, 2.0, 3.0]])\n",
        "\n",
        "softmax(x)"
      ]
    },
    {
      "cell_type": "code",
      "execution_count": 11,
      "metadata": {
        "id": "tWz9ol7WG7Ux"
      },
      "outputs": [],
      "source": [
        "model = nn.Sequential(\n",
        "            nn.Linear(3072, 512),\n",
        "            nn.Tanh(),\n",
        "            nn.Linear(512, 2),\n",
        "            nn.Softmax(dim=1))"
      ]
    },
    {
      "cell_type": "code",
      "execution_count": 12,
      "metadata": {
        "id": "eWH_iYkuG7Ux",
        "outputId": "7a490e84-0d51-47a0-a0a6-d220be47140e",
        "colab": {
          "base_uri": "https://localhost:8080/",
          "height": 449
        }
      },
      "outputs": [
        {
          "output_type": "stream",
          "name": "stderr",
          "text": [
            "WARNING:matplotlib.image:Clipping input data to the valid range for imshow with RGB data ([0..1] for floats or [0..255] for integers).\n"
          ]
        },
        {
          "output_type": "display_data",
          "data": {
            "text/plain": [
              "<Figure size 640x480 with 1 Axes>"
            ],
            "image/png": "[encoded data removed]"
          },
          "metadata": {}
        }
      ],
      "source": [
        "img, _ = cifar2[0]\n",
        "\n",
        "plt.imshow(img.permute(1, 2, 0))\n",
        "plt.show()"
      ]
    },
    {
      "cell_type": "code",
      "execution_count": 13,
      "metadata": {
        "id": "dbK89dofG7Ux"
      },
      "outputs": [],
      "source": [
        "img_batch = img.view(-1).unsqueeze(0)"
      ]
    },
    {
      "cell_type": "code",
      "execution_count": 14,
      "metadata": {
        "id": "F5vypOLFG7Ux",
        "outputId": "391345e7-3776-4224-99ae-19322ebd3a7a",
        "colab": {
          "base_uri": "https://localhost:8080/"
        }
      },
      "outputs": [
        {
          "output_type": "execute_result",
          "data": {
            "text/plain": [
              "tensor([[0.4784, 0.5216]], grad_fn=<SoftmaxBackward0>)"
            ]
          },
          "metadata": {},
          "execution_count": 14
        }
      ],
      "source": [
        "out = model(img_batch)\n",
        "out"
      ]
    },
    {
      "cell_type": "code",
      "execution_count": 15,
      "metadata": {
        "id": "mIZNdNhKG7Ux",
        "outputId": "e089c204-5706-41fc-ea71-d03ffaa94bc1",
        "colab": {
          "base_uri": "https://localhost:8080/"
        }
      },
      "outputs": [
        {
          "output_type": "execute_result",
          "data": {
            "text/plain": [
              "tensor([1])"
            ]
          },
          "metadata": {},
          "execution_count": 15
        }
      ],
      "source": [
        "_, index = torch.max(out, dim=1)\n",
        "\n",
        "index"
      ]
    },
    {
      "cell_type": "code",
      "execution_count": 16,
      "metadata": {
        "id": "_4pZhfPIG7Ux",
        "outputId": "86d29517-8b9f-40d9-c88b-fac68ac92ef1",
        "colab": {
          "base_uri": "https://localhost:8080/"
        }
      },
      "outputs": [
        {
          "output_type": "execute_result",
          "data": {
            "text/plain": [
              "tensor([[1., 0.],\n",
              "        [1., 0.],\n",
              "        [0., 1.],\n",
              "        [0., 1.]])"
            ]
          },
          "metadata": {},
          "execution_count": 16
        }
      ],
      "source": [
        "out = torch.tensor([\n",
        "    [0.6, 0.4],\n",
        "    [0.9, 0.1],\n",
        "    [0.3, 0.7],\n",
        "    [0.2, 0.8],\n",
        "])\n",
        "class_index = torch.tensor([0, 0, 1, 1]).unsqueeze(1)\n",
        "\n",
        "truth = torch.zeros((4,2))\n",
        "truth.scatter_(dim=1, index=class_index, value=1.0)\n",
        "truth"
      ]
    },
    {
      "cell_type": "code",
      "execution_count": 17,
      "metadata": {
        "id": "TQw3EKOgG7Ux",
        "outputId": "c3dd3bd8-7fb4-4123-d02d-a39e04393237",
        "colab": {
          "base_uri": "https://localhost:8080/"
        }
      },
      "outputs": [
        {
          "output_type": "execute_result",
          "data": {
            "text/plain": [
              "tensor(0.1500)"
            ]
          },
          "metadata": {},
          "execution_count": 17
        }
      ],
      "source": [
        "def mse(out):\n",
        "    return ((out - truth) ** 2).sum(dim=1).mean()\n",
        "mse(out)"
      ]
    },
    {
      "cell_type": "code",
      "execution_count": 18,
      "metadata": {
        "id": "lxGIrCk2G7Uy",
        "outputId": "2a7457bd-dda9-4479-d152-3a8b982df51e",
        "colab": {
          "base_uri": "https://localhost:8080/"
        }
      },
      "outputs": [
        {
          "output_type": "execute_result",
          "data": {
            "text/plain": [
              "tensor([[0.6000],\n",
              "        [0.9000],\n",
              "        [0.7000],\n",
              "        [0.8000]])"
            ]
          },
          "metadata": {},
          "execution_count": 18
        }
      ],
      "source": [
        "out.gather(dim=1, index=class_index)"
      ]
    },
    {
      "cell_type": "code",
      "execution_count": 19,
      "metadata": {
        "id": "aQHKXEtCG7Uy",
        "outputId": "90a4ca52-a2eb-48c6-f0d6-dc64f26ea015",
        "colab": {
          "base_uri": "https://localhost:8080/"
        }
      },
      "outputs": [
        {
          "output_type": "execute_result",
          "data": {
            "text/plain": [
              "tensor([0.3024])"
            ]
          },
          "metadata": {},
          "execution_count": 19
        }
      ],
      "source": [
        "def likelihood(out):\n",
        "    prod = 1.0\n",
        "    for x in out.gather(dim=1, index=class_index):\n",
        "        prod *= x\n",
        "    return prod\n",
        "\n",
        "likelihood(out)"
      ]
    },
    {
      "cell_type": "code",
      "execution_count": 20,
      "metadata": {
        "id": "nPOwMd_zG7Uy",
        "outputId": "8503b60d-e731-4277-dd83-13070d73dee6",
        "colab": {
          "base_uri": "https://localhost:8080/"
        }
      },
      "outputs": [
        {
          "output_type": "execute_result",
          "data": {
            "text/plain": [
              "tensor([1.1960])"
            ]
          },
          "metadata": {},
          "execution_count": 20
        }
      ],
      "source": [
        "def neg_log_likelihood(out):\n",
        "    return -likelihood(out).log()\n",
        "\n",
        "neg_log_likelihood(out)"
      ]
    },
    {
      "cell_type": "code",
      "execution_count": 21,
      "metadata": {
        "id": "Ba05mFeiG7U0",
        "outputId": "96274ee3-8f73-4806-b30e-f0358759e5ba",
        "colab": {
          "base_uri": "https://localhost:8080/"
        }
      },
      "outputs": [
        {
          "output_type": "execute_result",
          "data": {
            "text/plain": [
              "tensor([0.0750, 0.1500, 0.2500, 0.4750])"
            ]
          },
          "metadata": {},
          "execution_count": 21
        }
      ],
      "source": [
        "out0 = out.clone().detach()\n",
        "out0[0] = torch.tensor([0.9, 0.1]) # more right\n",
        "\n",
        "out2 = out.clone().detach()\n",
        "out2[0] = torch.tensor([0.4, 0.6]) # slightly wrong\n",
        "\n",
        "out3 = out.clone().detach()\n",
        "out3[0] = torch.tensor([0.1, 0.9]) # very wrong\n",
        "\n",
        "mse_comparison = torch.tensor([mse(o) for o in [out0, out, out2, out3]])\n",
        "mse_comparison"
      ]
    },
    {
      "cell_type": "code",
      "execution_count": 22,
      "metadata": {
        "id": "-rEmKEP6G7U0",
        "outputId": "ce9d8c59-41f4-4b17-dfca-ecb0280f9cea",
        "colab": {
          "base_uri": "https://localhost:8080/"
        }
      },
      "outputs": [
        {
          "output_type": "execute_result",
          "data": {
            "text/plain": [
              "tensor([-50.0000,   0.0000,  66.6667, 216.6667])"
            ]
          },
          "metadata": {},
          "execution_count": 22
        }
      ],
      "source": [
        "((mse_comparison / mse_comparison[1]) - 1) * 100"
      ]
    },
    {
      "cell_type": "code",
      "execution_count": 23,
      "metadata": {
        "id": "uwi_YzP2G7U0",
        "outputId": "ccb9e91f-515c-448a-bf5c-f47d4a9bdb74",
        "colab": {
          "base_uri": "https://localhost:8080/"
        }
      },
      "outputs": [
        {
          "output_type": "execute_result",
          "data": {
            "text/plain": [
              "tensor([0.7905, 1.1960, 1.6015, 2.9878])"
            ]
          },
          "metadata": {},
          "execution_count": 23
        }
      ],
      "source": [
        "nll_comparison = torch.tensor([neg_log_likelihood(o)\n",
        "                               for o in [out0, out, out2, out3]])\n",
        "nll_comparison"
      ]
    },
    {
      "cell_type": "code",
      "execution_count": 24,
      "metadata": {
        "id": "M9yzk0uqG7U0",
        "outputId": "83be5538-0b39-428d-aaaf-a391012d81fb",
        "colab": {
          "base_uri": "https://localhost:8080/"
        }
      },
      "outputs": [
        {
          "output_type": "execute_result",
          "data": {
            "text/plain": [
              "tensor([-33.9016,   0.0000,  33.9016, 149.8121])"
            ]
          },
          "metadata": {},
          "execution_count": 24
        }
      ],
      "source": [
        "((nll_comparison / nll_comparison[1]) - 1) * 100"
      ]
    },
    {
      "cell_type": "code",
      "execution_count": 25,
      "metadata": {
        "id": "0e_V_HGSG7U1",
        "outputId": "3e55fce5-7d87-4b5f-f428-65f8f68981a9",
        "colab": {
          "base_uri": "https://localhost:8080/"
        }
      },
      "outputs": [
        {
          "output_type": "execute_result",
          "data": {
            "text/plain": [
              "tensor([[0., 1.]])"
            ]
          },
          "metadata": {},
          "execution_count": 25
        }
      ],
      "source": [
        "softmax = nn.Softmax(dim=1)\n",
        "\n",
        "log_softmax = nn.LogSoftmax(dim=1)\n",
        "\n",
        "x = torch.tensor([[0.0, 104.0]])\n",
        "\n",
        "softmax(x)"
      ]
    },
    {
      "cell_type": "code",
      "execution_count": 26,
      "metadata": {
        "id": "DiZ9mBgrG7U1",
        "outputId": "4277f586-b6ce-41e5-e04f-73eed498041b",
        "colab": {
          "base_uri": "https://localhost:8080/"
        }
      },
      "outputs": [
        {
          "output_type": "execute_result",
          "data": {
            "text/plain": [
              "tensor([[0., 1.]])"
            ]
          },
          "metadata": {},
          "execution_count": 26
        }
      ],
      "source": [
        "softmax = nn.Softmax(dim=1)\n",
        "\n",
        "log_softmax = nn.LogSoftmax(dim=1)\n",
        "\n",
        "x = torch.tensor([[0.0, 104.0]])\n",
        "\n",
        "softmax(x)"
      ]
    },
    {
      "cell_type": "code",
      "execution_count": 27,
      "metadata": {
        "id": "A2q-gZLSG7U1",
        "outputId": "8917ecdb-43c9-420c-b209-78c01d2cd183",
        "colab": {
          "base_uri": "https://localhost:8080/"
        }
      },
      "outputs": [
        {
          "output_type": "execute_result",
          "data": {
            "text/plain": [
              "tensor([[-inf, 0.]])"
            ]
          },
          "metadata": {},
          "execution_count": 27
        }
      ],
      "source": [
        "torch.log(softmax(x))"
      ]
    },
    {
      "cell_type": "code",
      "execution_count": 28,
      "metadata": {
        "id": "HRQ4wAgwG7U1",
        "outputId": "18a2acff-c695-4f0c-ed45-bb521112d1d9",
        "colab": {
          "base_uri": "https://localhost:8080/"
        }
      },
      "outputs": [
        {
          "output_type": "execute_result",
          "data": {
            "text/plain": [
              "tensor([[-104.,    0.]])"
            ]
          },
          "metadata": {},
          "execution_count": 28
        }
      ],
      "source": [
        "log_softmax(x)"
      ]
    },
    {
      "cell_type": "code",
      "execution_count": 29,
      "metadata": {
        "id": "6zwGWKWKG7U1",
        "outputId": "0d5f456c-6e24-49ac-df1a-4eb29d029401",
        "colab": {
          "base_uri": "https://localhost:8080/"
        }
      },
      "outputs": [
        {
          "output_type": "execute_result",
          "data": {
            "text/plain": [
              "tensor([[0., 1.]])"
            ]
          },
          "metadata": {},
          "execution_count": 29
        }
      ],
      "source": [
        "torch.exp(log_softmax(x))"
      ]
    },
    {
      "cell_type": "code",
      "execution_count": 30,
      "metadata": {
        "id": "sVTY2F1zG7U1"
      },
      "outputs": [],
      "source": [
        "model = nn.Sequential(\n",
        "            nn.Linear(3072, 512),\n",
        "            nn.Tanh(),\n",
        "            nn.Linear(512, 2),\n",
        "            nn.LogSoftmax(dim=1))"
      ]
    },
    {
      "cell_type": "code",
      "execution_count": 31,
      "metadata": {
        "id": "XiB-b4KIG7U1"
      },
      "outputs": [],
      "source": [
        "loss = nn.NLLLoss()"
      ]
    },
    {
      "cell_type": "code",
      "execution_count": 32,
      "metadata": {
        "id": "fA6DnnphG7U2",
        "outputId": "5b0bb9c6-e0bd-4cea-9f24-2ec6c93215f0",
        "colab": {
          "base_uri": "https://localhost:8080/"
        }
      },
      "outputs": [
        {
          "output_type": "execute_result",
          "data": {
            "text/plain": [
              "tensor(0.5077, grad_fn=<NllLossBackward0>)"
            ]
          },
          "metadata": {},
          "execution_count": 32
        }
      ],
      "source": [
        "img, label = cifar2[0]\n",
        "\n",
        "out = model(img.view(-1).unsqueeze(0))\n",
        "\n",
        "loss(out, torch.tensor([label]))"
      ]
    },
    {
      "cell_type": "code",
      "execution_count": null,
      "metadata": {
        "id": "VG1PO0YAG7U2",
        "outputId": "0fee0a84-b17d-4444-dc9f-b4e211162888",
        "colab": {
          "base_uri": "https://localhost:8080/"
        }
      },
      "outputs": [
        {
          "output_type": "stream",
          "name": "stdout",
          "text": [
            "Epoch: 0, Loss: 4.970345\n",
            "Epoch: 1, Loss: 1.496101\n",
            "Epoch: 2, Loss: 5.965734\n",
            "Epoch: 3, Loss: 5.456360\n",
            "Epoch: 4, Loss: 8.263103\n",
            "Epoch: 5, Loss: 7.556247\n",
            "Epoch: 6, Loss: 12.164555\n",
            "Epoch: 7, Loss: 6.562623\n",
            "Epoch: 8, Loss: 10.487607\n",
            "Epoch: 9, Loss: 3.622941\n",
            "Epoch: 10, Loss: 7.431984\n",
            "Epoch: 11, Loss: 8.384097\n",
            "Epoch: 12, Loss: 9.000412\n",
            "Epoch: 13, Loss: 10.115946\n",
            "Epoch: 14, Loss: 17.631962\n",
            "Epoch: 15, Loss: 7.163721\n",
            "Epoch: 16, Loss: 13.356232\n",
            "Epoch: 17, Loss: 19.606689\n",
            "Epoch: 18, Loss: 16.856281\n",
            "Epoch: 19, Loss: 17.045574\n",
            "Epoch: 20, Loss: 8.984884\n",
            "Epoch: 21, Loss: 0.086462\n",
            "Epoch: 22, Loss: 7.062708\n",
            "Epoch: 23, Loss: 12.056187\n",
            "Epoch: 24, Loss: 0.521504\n",
            "Epoch: 25, Loss: 0.167765\n",
            "Epoch: 26, Loss: 3.343651\n",
            "Epoch: 27, Loss: 8.203370\n",
            "Epoch: 28, Loss: 13.065648\n",
            "Epoch: 29, Loss: 15.000914\n",
            "Epoch: 30, Loss: 10.890163\n",
            "Epoch: 31, Loss: 7.686925\n",
            "Epoch: 32, Loss: 4.593851\n",
            "Epoch: 33, Loss: 11.981665\n",
            "Epoch: 34, Loss: 10.078283\n",
            "Epoch: 35, Loss: 15.812454\n"
          ]
        }
      ],
      "source": [
        "import torch\n",
        "import torch.nn as nn\n",
        "import torch.optim as optim\n",
        "\n",
        "model = nn.Sequential(\n",
        "            nn.Linear(3072, 512),\n",
        "            nn.Tanh(),\n",
        "            nn.Linear(512, 2),\n",
        "            nn.LogSoftmax(dim=1))\n",
        "\n",
        "learning_rate = 1e-2\n",
        "\n",
        "optimizer = optim.SGD(model.parameters(), lr=learning_rate)\n",
        "\n",
        "loss_fn = nn.NLLLoss()\n",
        "\n",
        "n_epochs = 100\n",
        "\n",
        "for epoch in range(n_epochs):\n",
        "    for img, label in cifar2:\n",
        "        out = model(img.view(-1).unsqueeze(0))\n",
        "        loss = loss_fn(out, torch.tensor([label]))\n",
        "\n",
        "        optimizer.zero_grad()\n",
        "        loss.backward()\n",
        "        optimizer.step()\n",
        "\n",
        "    print(\"Epoch: %d, Loss: %f\" % (epoch, float(loss)))"
      ]
    },
    {
      "cell_type": "code",
      "execution_count": null,
      "metadata": {
        "id": "S9kcgEdTG7U2"
      },
      "outputs": [],
      "source": [
        "train_loader = torch.utils.data.DataLoader(cifar2, batch_size=64,\n",
        "                                           shuffle=True)"
      ]
    },
    {
      "cell_type": "code",
      "execution_count": null,
      "metadata": {
        "id": "16TrD2YDG7U2",
        "outputId": "ad08fc84-d596-41ca-9084-4b2cf06ab981"
      },
      "outputs": [
        {
          "name": "stdout",
          "output_type": "stream",
          "text": [
            "Epoch: 0, Loss: 0.604063\n",
            "Epoch: 1, Loss: 0.597974\n",
            "Epoch: 2, Loss: 0.271415\n",
            "Epoch: 3, Loss: 0.451056\n",
            "Epoch: 4, Loss: 0.629758\n",
            "Epoch: 5, Loss: 0.458762\n",
            "Epoch: 6, Loss: 0.277813\n",
            "Epoch: 7, Loss: 0.406921\n",
            "Epoch: 8, Loss: 0.951961\n",
            "Epoch: 9, Loss: 0.433738\n",
            "Epoch: 10, Loss: 0.351960\n",
            "Epoch: 11, Loss: 0.355687\n",
            "Epoch: 12, Loss: 0.518611\n",
            "Epoch: 13, Loss: 0.262623\n",
            "Epoch: 14, Loss: 0.221969\n",
            "Epoch: 15, Loss: 0.774132\n",
            "Epoch: 16, Loss: 0.324406\n",
            "Epoch: 17, Loss: 0.447701\n",
            "Epoch: 18, Loss: 0.299780\n",
            "Epoch: 19, Loss: 0.267090\n",
            "Epoch: 20, Loss: 0.279828\n",
            "Epoch: 21, Loss: 0.197123\n",
            "Epoch: 22, Loss: 0.196783\n",
            "Epoch: 23, Loss: 0.328715\n",
            "Epoch: 24, Loss: 0.334952\n",
            "Epoch: 25, Loss: 0.500689\n",
            "Epoch: 26, Loss: 0.186956\n",
            "Epoch: 27, Loss: 0.138649\n",
            "Epoch: 28, Loss: 0.239988\n",
            "Epoch: 29, Loss: 0.495020\n",
            "Epoch: 30, Loss: 0.251347\n",
            "Epoch: 31, Loss: 0.088298\n",
            "Epoch: 32, Loss: 0.175127\n",
            "Epoch: 33, Loss: 0.208338\n",
            "Epoch: 34, Loss: 0.145656\n",
            "Epoch: 35, Loss: 0.129570\n",
            "Epoch: 36, Loss: 0.200110\n",
            "Epoch: 37, Loss: 0.133076\n",
            "Epoch: 38, Loss: 0.230561\n",
            "Epoch: 39, Loss: 0.241688\n",
            "Epoch: 40, Loss: 0.106870\n",
            "Epoch: 41, Loss: 0.281168\n",
            "Epoch: 42, Loss: 0.175034\n",
            "Epoch: 43, Loss: 0.073779\n",
            "Epoch: 44, Loss: 0.171294\n",
            "Epoch: 45, Loss: 0.112456\n",
            "Epoch: 46, Loss: 0.132553\n",
            "Epoch: 47, Loss: 0.048826\n",
            "Epoch: 48, Loss: 0.076014\n",
            "Epoch: 49, Loss: 0.122317\n",
            "Epoch: 50, Loss: 0.103442\n",
            "Epoch: 51, Loss: 0.201585\n",
            "Epoch: 52, Loss: 0.145637\n",
            "Epoch: 53, Loss: 0.055844\n",
            "Epoch: 54, Loss: 0.046278\n",
            "Epoch: 55, Loss: 0.081562\n",
            "Epoch: 56, Loss: 0.058857\n",
            "Epoch: 57, Loss: 0.197200\n",
            "Epoch: 58, Loss: 0.044184\n",
            "Epoch: 59, Loss: 0.043374\n",
            "Epoch: 60, Loss: 0.032936\n",
            "Epoch: 61, Loss: 0.072488\n",
            "Epoch: 62, Loss: 0.060811\n",
            "Epoch: 63, Loss: 0.029262\n",
            "Epoch: 64, Loss: 0.036435\n",
            "Epoch: 65, Loss: 0.058120\n",
            "Epoch: 66, Loss: 0.063329\n",
            "Epoch: 67, Loss: 0.020670\n",
            "Epoch: 68, Loss: 0.077189\n",
            "Epoch: 69, Loss: 0.060933\n",
            "Epoch: 70, Loss: 0.070848\n",
            "Epoch: 71, Loss: 0.036434\n",
            "Epoch: 72, Loss: 0.084855\n",
            "Epoch: 73, Loss: 0.044776\n",
            "Epoch: 74, Loss: 0.037828\n",
            "Epoch: 75, Loss: 0.024554\n",
            "Epoch: 76, Loss: 0.018965\n",
            "Epoch: 77, Loss: 0.033381\n",
            "Epoch: 78, Loss: 0.016183\n",
            "Epoch: 79, Loss: 0.020083\n",
            "Epoch: 80, Loss: 0.041192\n",
            "Epoch: 81, Loss: 0.015122\n",
            "Epoch: 82, Loss: 0.014245\n",
            "Epoch: 83, Loss: 0.018538\n",
            "Epoch: 84, Loss: 0.044791\n",
            "Epoch: 85, Loss: 0.034532\n",
            "Epoch: 86, Loss: 0.010175\n",
            "Epoch: 87, Loss: 0.021837\n",
            "Epoch: 88, Loss: 0.005545\n",
            "Epoch: 89, Loss: 0.012682\n",
            "Epoch: 90, Loss: 0.026414\n",
            "Epoch: 91, Loss: 0.021372\n",
            "Epoch: 92, Loss: 0.025901\n",
            "Epoch: 93, Loss: 0.025262\n",
            "Epoch: 94, Loss: 0.047044\n",
            "Epoch: 95, Loss: 0.016064\n",
            "Epoch: 96, Loss: 0.059213\n",
            "Epoch: 97, Loss: 0.017386\n",
            "Epoch: 98, Loss: 0.016215\n",
            "Epoch: 99, Loss: 0.016987\n"
          ]
        }
      ],
      "source": [
        "import torch\n",
        "import torch.nn as nn\n",
        "import torch.optim as optim\n",
        "\n",
        "train_loader = torch.utils.data.DataLoader(cifar2, batch_size=64,\n",
        "                                           shuffle=True)\n",
        "\n",
        "model = nn.Sequential(\n",
        "            nn.Linear(3072, 128),\n",
        "            nn.Tanh(),\n",
        "            nn.Linear(128, 2),\n",
        "            nn.LogSoftmax(dim=1))\n",
        "\n",
        "learning_rate = 1e-2\n",
        "\n",
        "optimizer = optim.SGD(model.parameters(), lr=learning_rate)\n",
        "\n",
        "loss_fn = nn.NLLLoss()\n",
        "\n",
        "n_epochs = 100\n",
        "\n",
        "for epoch in range(n_epochs):\n",
        "    for imgs, labels in train_loader:\n",
        "        outputs = model(imgs.view(imgs.shape[0], -1))\n",
        "        loss = loss_fn(outputs, labels)\n",
        "\n",
        "        optimizer.zero_grad()\n",
        "        loss.backward()\n",
        "        optimizer.step()\n",
        "\n",
        "    print(\"Epoch: %d, Loss: %f\" % (epoch, float(loss)))"
      ]
    },
    {
      "cell_type": "code",
      "execution_count": null,
      "metadata": {
        "id": "p0d6BsXzG7U2",
        "outputId": "f4a2f00a-d7a6-41c3-f05d-aaae20d6d31a"
      },
      "outputs": [
        {
          "name": "stdout",
          "output_type": "stream",
          "text": [
            "Epoch: 0, Loss: 0.732168\n",
            "Epoch: 1, Loss: 0.348352\n",
            "Epoch: 2, Loss: 0.318960\n",
            "Epoch: 3, Loss: 0.313264\n",
            "Epoch: 4, Loss: 0.378358\n",
            "Epoch: 5, Loss: 0.276529\n",
            "Epoch: 6, Loss: 0.443889\n",
            "Epoch: 7, Loss: 0.436946\n",
            "Epoch: 8, Loss: 0.324288\n",
            "Epoch: 9, Loss: 0.274647\n",
            "Epoch: 10, Loss: 0.291681\n",
            "Epoch: 11, Loss: 0.242894\n",
            "Epoch: 12, Loss: 0.301849\n",
            "Epoch: 13, Loss: 0.202063\n",
            "Epoch: 14, Loss: 0.389276\n",
            "Epoch: 15, Loss: 0.167129\n",
            "Epoch: 16, Loss: 0.135282\n",
            "Epoch: 17, Loss: 0.385485\n",
            "Epoch: 18, Loss: 0.453852\n",
            "Epoch: 19, Loss: 0.641304\n",
            "Epoch: 20, Loss: 0.287667\n",
            "Epoch: 21, Loss: 0.337029\n",
            "Epoch: 22, Loss: 0.393282\n",
            "Epoch: 23, Loss: 0.409480\n",
            "Epoch: 24, Loss: 0.138473\n",
            "Epoch: 25, Loss: 0.690729\n",
            "Epoch: 26, Loss: 0.572156\n",
            "Epoch: 27, Loss: 0.078534\n",
            "Epoch: 28, Loss: 0.324833\n",
            "Epoch: 29, Loss: 0.262829\n",
            "Epoch: 30, Loss: 0.430449\n",
            "Epoch: 31, Loss: 0.071872\n",
            "Epoch: 32, Loss: 0.058039\n",
            "Epoch: 33, Loss: 0.052903\n",
            "Epoch: 34, Loss: 0.065879\n",
            "Epoch: 35, Loss: 0.107696\n",
            "Epoch: 36, Loss: 0.305224\n",
            "Epoch: 37, Loss: 0.098637\n",
            "Epoch: 38, Loss: 0.139823\n",
            "Epoch: 39, Loss: 0.226455\n",
            "Epoch: 40, Loss: 0.117763\n",
            "Epoch: 41, Loss: 0.106498\n",
            "Epoch: 42, Loss: 0.086254\n",
            "Epoch: 43, Loss: 0.135652\n",
            "Epoch: 44, Loss: 0.070890\n",
            "Epoch: 45, Loss: 0.304346\n",
            "Epoch: 46, Loss: 0.016917\n",
            "Epoch: 47, Loss: 0.057929\n",
            "Epoch: 48, Loss: 0.131021\n",
            "Epoch: 49, Loss: 0.136299\n",
            "Epoch: 50, Loss: 0.048885\n",
            "Epoch: 51, Loss: 0.241048\n",
            "Epoch: 52, Loss: 0.092595\n",
            "Epoch: 53, Loss: 0.059137\n",
            "Epoch: 54, Loss: 0.047421\n",
            "Epoch: 55, Loss: 0.102036\n",
            "Epoch: 56, Loss: 0.023338\n",
            "Epoch: 57, Loss: 0.054306\n",
            "Epoch: 58, Loss: 0.073878\n",
            "Epoch: 59, Loss: 0.031387\n",
            "Epoch: 60, Loss: 0.039865\n",
            "Epoch: 61, Loss: 0.022344\n",
            "Epoch: 62, Loss: 0.052310\n",
            "Epoch: 63, Loss: 0.059688\n",
            "Epoch: 64, Loss: 0.023977\n",
            "Epoch: 65, Loss: 0.010632\n",
            "Epoch: 66, Loss: 0.039090\n",
            "Epoch: 67, Loss: 0.080844\n",
            "Epoch: 68, Loss: 0.029650\n",
            "Epoch: 69, Loss: 0.027038\n",
            "Epoch: 70, Loss: 0.028515\n",
            "Epoch: 71, Loss: 0.021998\n",
            "Epoch: 72, Loss: 0.014992\n",
            "Epoch: 73, Loss: 0.019659\n",
            "Epoch: 74, Loss: 0.025150\n",
            "Epoch: 75, Loss: 0.017384\n",
            "Epoch: 76, Loss: 0.013249\n",
            "Epoch: 77, Loss: 0.009451\n",
            "Epoch: 78, Loss: 0.034637\n",
            "Epoch: 79, Loss: 0.114242\n",
            "Epoch: 80, Loss: 0.019007\n",
            "Epoch: 81, Loss: 0.016319\n",
            "Epoch: 82, Loss: 0.027428\n",
            "Epoch: 83, Loss: 0.022366\n",
            "Epoch: 84, Loss: 0.022583\n",
            "Epoch: 85, Loss: 0.006275\n",
            "Epoch: 86, Loss: 0.011964\n",
            "Epoch: 87, Loss: 0.018711\n",
            "Epoch: 88, Loss: 0.019636\n",
            "Epoch: 89, Loss: 0.018975\n",
            "Epoch: 90, Loss: 0.023520\n",
            "Epoch: 91, Loss: 0.016398\n",
            "Epoch: 92, Loss: 0.006638\n",
            "Epoch: 93, Loss: 0.013305\n",
            "Epoch: 94, Loss: 0.017126\n",
            "Epoch: 95, Loss: 0.021641\n",
            "Epoch: 96, Loss: 0.036945\n",
            "Epoch: 97, Loss: 0.004735\n",
            "Epoch: 98, Loss: 0.016781\n",
            "Epoch: 99, Loss: 0.012039\n"
          ]
        }
      ],
      "source": [
        "import torch\n",
        "import torch.nn as nn\n",
        "import torch.optim as optim\n",
        "\n",
        "train_loader = torch.utils.data.DataLoader(cifar2, batch_size=64,\n",
        "                                           shuffle=True)\n",
        "\n",
        "model = nn.Sequential(\n",
        "            nn.Linear(3072, 512),\n",
        "            nn.Tanh(),\n",
        "            nn.Linear(512, 2),\n",
        "            nn.LogSoftmax(dim=1))\n",
        "\n",
        "learning_rate = 1e-2\n",
        "\n",
        "optimizer = optim.SGD(model.parameters(), lr=learning_rate)\n",
        "\n",
        "loss_fn = nn.NLLLoss()\n",
        "\n",
        "n_epochs = 100\n",
        "\n",
        "for epoch in range(n_epochs):\n",
        "    for imgs, labels in train_loader:\n",
        "        outputs = model(imgs.view(imgs.shape[0], -1))\n",
        "        loss = loss_fn(outputs, labels)\n",
        "\n",
        "        optimizer.zero_grad()\n",
        "        loss.backward()\n",
        "        optimizer.step()\n",
        "\n",
        "    print(\"Epoch: %d, Loss: %f\" % (epoch, float(loss)))"
      ]
    },
    {
      "cell_type": "code",
      "execution_count": null,
      "metadata": {
        "id": "L7sbgGXTG7U2",
        "outputId": "ada2f66f-6146-4d5e-9d9b-b0bd514c432c"
      },
      "outputs": [
        {
          "name": "stdout",
          "output_type": "stream",
          "text": [
            "Accuracy: 0.997700\n"
          ]
        }
      ],
      "source": [
        "train_loader = torch.utils.data.DataLoader(cifar2, batch_size=64,\n",
        "                                           shuffle=False)\n",
        "\n",
        "correct = 0\n",
        "total = 0\n",
        "\n",
        "with torch.no_grad():\n",
        "    for imgs, labels in train_loader:\n",
        "        outputs = model(imgs.view(imgs.shape[0], -1))\n",
        "        _, predicted = torch.max(outputs, dim=1)\n",
        "        total += labels.shape[0]\n",
        "        correct += int((predicted == labels).sum())\n",
        "\n",
        "print(\"Accuracy: %f\" % (correct / total))"
      ]
    },
    {
      "cell_type": "code",
      "execution_count": null,
      "metadata": {
        "id": "1Eb-uuYzG7U2",
        "outputId": "5eb150af-3b05-4794-b5a1-54a739bce726"
      },
      "outputs": [
        {
          "name": "stdout",
          "output_type": "stream",
          "text": [
            "Accuracy: 0.821000\n"
          ]
        }
      ],
      "source": [
        "val_loader = torch.utils.data.DataLoader(cifar2_val, batch_size=64,\n",
        "                                         shuffle=False)\n",
        "\n",
        "correct = 0\n",
        "total = 0\n",
        "\n",
        "with torch.no_grad():\n",
        "    for imgs, labels in val_loader:\n",
        "        outputs = model(imgs.view(imgs.shape[0], -1))\n",
        "        _, predicted = torch.max(outputs, dim=1)\n",
        "        total += labels.shape[0]\n",
        "        correct += int((predicted == labels).sum())\n",
        "\n",
        "print(\"Accuracy: %f\" % (correct / total))"
      ]
    },
    {
      "cell_type": "code",
      "execution_count": null,
      "metadata": {
        "id": "yjAQrvGbG7U2"
      },
      "outputs": [],
      "source": [
        "model = nn.Sequential(\n",
        "            nn.Linear(3072, 1024),\n",
        "            nn.Tanh(),\n",
        "            nn.Linear(1024, 512),\n",
        "            nn.Tanh(),\n",
        "            nn.Linear(512, 128),\n",
        "            nn.Tanh(),\n",
        "            nn.Linear(128, 2),\n",
        "            nn.LogSoftmax(dim=1))"
      ]
    },
    {
      "cell_type": "code",
      "execution_count": null,
      "metadata": {
        "id": "0eXPhSO-G7U6"
      },
      "outputs": [],
      "source": [
        "model = nn.Sequential(\n",
        "            nn.Linear(3072, 1024),\n",
        "            nn.Tanh(),\n",
        "            nn.Linear(1024, 512),\n",
        "            nn.Tanh(),\n",
        "            nn.Linear(512, 128),\n",
        "            nn.Tanh(),\n",
        "            nn.Linear(128, 2))\n",
        "\n",
        "loss_fn = nn.CrossEntropyLoss()"
      ]
    },
    {
      "cell_type": "code",
      "execution_count": null,
      "metadata": {
        "id": "KsxxvdTkG7U6",
        "outputId": "f10c52ba-3e68-44b8-d555-1234cfe1905f"
      },
      "outputs": [
        {
          "name": "stdout",
          "output_type": "stream",
          "text": [
            "Epoch: 0, Loss: 0.641261\n",
            "Epoch: 1, Loss: 0.525149\n",
            "Epoch: 2, Loss: 0.466143\n",
            "Epoch: 3, Loss: 0.451913\n",
            "Epoch: 4, Loss: 0.343860\n",
            "Epoch: 5, Loss: 0.309738\n",
            "Epoch: 6, Loss: 0.485261\n",
            "Epoch: 7, Loss: 0.283789\n",
            "Epoch: 8, Loss: 0.301561\n",
            "Epoch: 9, Loss: 0.408200\n",
            "Epoch: 10, Loss: 0.346715\n",
            "Epoch: 11, Loss: 0.358134\n",
            "Epoch: 12, Loss: 0.388485\n",
            "Epoch: 13, Loss: 0.378096\n",
            "Epoch: 14, Loss: 0.518019\n",
            "Epoch: 15, Loss: 0.359279\n",
            "Epoch: 16, Loss: 0.420371\n",
            "Epoch: 17, Loss: 0.366249\n",
            "Epoch: 18, Loss: 0.282639\n",
            "Epoch: 19, Loss: 0.468854\n",
            "Epoch: 20, Loss: 0.467920\n",
            "Epoch: 21, Loss: 0.237441\n",
            "Epoch: 22, Loss: 0.243472\n",
            "Epoch: 23, Loss: 0.566929\n",
            "Epoch: 24, Loss: 0.316143\n",
            "Epoch: 25, Loss: 0.336322\n",
            "Epoch: 26, Loss: 0.473064\n",
            "Epoch: 27, Loss: 0.407040\n",
            "Epoch: 28, Loss: 0.252989\n",
            "Epoch: 29, Loss: 0.195740\n",
            "Epoch: 30, Loss: 0.663084\n",
            "Epoch: 31, Loss: 0.659899\n",
            "Epoch: 32, Loss: 0.285113\n",
            "Epoch: 33, Loss: 0.212042\n",
            "Epoch: 34, Loss: 0.324017\n",
            "Epoch: 35, Loss: 0.097063\n",
            "Epoch: 36, Loss: 0.181754\n",
            "Epoch: 37, Loss: 0.091362\n",
            "Epoch: 38, Loss: 0.069348\n",
            "Epoch: 39, Loss: 0.085656\n",
            "Epoch: 40, Loss: 0.163399\n",
            "Epoch: 41, Loss: 0.064912\n",
            "Epoch: 42, Loss: 0.046740\n",
            "Epoch: 43, Loss: 0.029891\n",
            "Epoch: 44, Loss: 0.018157\n",
            "Epoch: 45, Loss: 0.103532\n",
            "Epoch: 46, Loss: 0.161911\n",
            "Epoch: 47, Loss: 0.238185\n",
            "Epoch: 48, Loss: 0.081116\n",
            "Epoch: 49, Loss: 0.040988\n",
            "Epoch: 50, Loss: 0.008668\n",
            "Epoch: 51, Loss: 0.012557\n",
            "Epoch: 52, Loss: 0.015967\n",
            "Epoch: 53, Loss: 0.020964\n",
            "Epoch: 54, Loss: 0.023478\n",
            "Epoch: 55, Loss: 0.012850\n",
            "Epoch: 56, Loss: 0.054703\n",
            "Epoch: 57, Loss: 0.014922\n",
            "Epoch: 58, Loss: 0.045488\n",
            "Epoch: 59, Loss: 0.122221\n",
            "Epoch: 60, Loss: 0.028012\n",
            "Epoch: 61, Loss: 0.029533\n",
            "Epoch: 62, Loss: 0.004758\n",
            "Epoch: 63, Loss: 0.080409\n",
            "Epoch: 64, Loss: 0.005409\n",
            "Epoch: 65, Loss: 0.020399\n",
            "Epoch: 66, Loss: 0.008184\n",
            "Epoch: 67, Loss: 0.013888\n",
            "Epoch: 68, Loss: 0.002199\n",
            "Epoch: 69, Loss: 0.001918\n",
            "Epoch: 70, Loss: 0.018765\n",
            "Epoch: 71, Loss: 0.004223\n",
            "Epoch: 72, Loss: 0.001795\n",
            "Epoch: 73, Loss: 0.102238\n",
            "Epoch: 74, Loss: 0.002482\n",
            "Epoch: 75, Loss: 0.005807\n",
            "Epoch: 76, Loss: 0.001742\n",
            "Epoch: 77, Loss: 0.012760\n",
            "Epoch: 78, Loss: 0.017469\n",
            "Epoch: 79, Loss: 0.002849\n",
            "Epoch: 80, Loss: 0.001452\n",
            "Epoch: 81, Loss: 0.002740\n",
            "Epoch: 82, Loss: 0.003317\n",
            "Epoch: 83, Loss: 0.002066\n",
            "Epoch: 84, Loss: 0.001952\n",
            "Epoch: 85, Loss: 0.010757\n",
            "Epoch: 86, Loss: 0.004866\n",
            "Epoch: 87, Loss: 0.003957\n",
            "Epoch: 88, Loss: 0.001295\n",
            "Epoch: 89, Loss: 0.004410\n",
            "Epoch: 90, Loss: 0.002952\n",
            "Epoch: 91, Loss: 0.000676\n",
            "Epoch: 92, Loss: 0.001835\n",
            "Epoch: 93, Loss: 0.000739\n",
            "Epoch: 94, Loss: 0.001102\n",
            "Epoch: 95, Loss: 0.000792\n",
            "Epoch: 96, Loss: 0.000515\n",
            "Epoch: 97, Loss: 0.001548\n",
            "Epoch: 98, Loss: 0.026913\n",
            "Epoch: 99, Loss: 0.000140\n"
          ]
        }
      ],
      "source": [
        "import torch\n",
        "import torch.nn as nn\n",
        "import torch.optim as optim\n",
        "\n",
        "train_loader = torch.utils.data.DataLoader(cifar2, batch_size=64,\n",
        "                                           shuffle=True)\n",
        "\n",
        "model = nn.Sequential(\n",
        "            nn.Linear(3072, 1024),\n",
        "            nn.Tanh(),\n",
        "            nn.Linear(1024, 512),\n",
        "            nn.Tanh(),\n",
        "            nn.Linear(512, 128),\n",
        "            nn.Tanh(),\n",
        "            nn.Linear(128, 2))\n",
        "\n",
        "learning_rate = 1e-2\n",
        "\n",
        "optimizer = optim.SGD(model.parameters(), lr=learning_rate)\n",
        "\n",
        "loss_fn = nn.CrossEntropyLoss()\n",
        "\n",
        "n_epochs = 100\n",
        "\n",
        "for epoch in range(n_epochs):\n",
        "    for imgs, labels in train_loader:\n",
        "        outputs = model(imgs.view(imgs.shape[0], -1))\n",
        "        loss = loss_fn(outputs, labels)\n",
        "\n",
        "        optimizer.zero_grad()\n",
        "        loss.backward()\n",
        "        optimizer.step()\n",
        "\n",
        "    print(\"Epoch: %d, Loss: %f\" % (epoch, float(loss)))"
      ]
    },
    {
      "cell_type": "code",
      "execution_count": null,
      "metadata": {
        "id": "dWR--EYlG7U6",
        "outputId": "44cf3b3b-3b23-4f5a-f1a5-23e0e468a694"
      },
      "outputs": [
        {
          "name": "stdout",
          "output_type": "stream",
          "text": [
            "Accuracy: 0.999700\n"
          ]
        }
      ],
      "source": [
        "train_loader = torch.utils.data.DataLoader(cifar2, batch_size=64,\n",
        "                                           shuffle=False)\n",
        "\n",
        "correct = 0\n",
        "total = 0\n",
        "\n",
        "with torch.no_grad():\n",
        "    for imgs, labels in train_loader:\n",
        "        outputs = model(imgs.view(imgs.shape[0], -1))\n",
        "        _, predicted = torch.max(outputs, dim=1)\n",
        "        total += labels.shape[0]\n",
        "        correct += int((predicted == labels).sum())\n",
        "\n",
        "print(\"Accuracy: %f\" % (correct / total))"
      ]
    },
    {
      "cell_type": "code",
      "execution_count": null,
      "metadata": {
        "id": "FJxWQtLVG7U6",
        "outputId": "8a97335f-11bc-4bc7-dafb-3592ae375137"
      },
      "outputs": [
        {
          "name": "stdout",
          "output_type": "stream",
          "text": [
            "Accuracy: 0.801000\n"
          ]
        }
      ],
      "source": [
        "val_loader = torch.utils.data.DataLoader(cifar2_val, batch_size=64,\n",
        "                                         shuffle=False)\n",
        "\n",
        "correct = 0\n",
        "total = 0\n",
        "\n",
        "with torch.no_grad():\n",
        "    for imgs, labels in val_loader:\n",
        "        outputs = model(imgs.view(imgs.shape[0], -1))\n",
        "        _, predicted = torch.max(outputs, dim=1)\n",
        "        total += labels.shape[0]\n",
        "        correct += int((predicted == labels).sum())\n",
        "\n",
        "print(\"Accuracy: %f\" % (correct / total))"
      ]
    },
    {
      "cell_type": "code",
      "execution_count": null,
      "metadata": {
        "id": "9MKdnV-gG7U6",
        "outputId": "30428266-1875-4a7d-a4bd-4d801e89b0d0"
      },
      "outputs": [
        {
          "data": {
            "text/plain": [
              "3737474"
            ]
          },
          "execution_count": 44,
          "metadata": {},
          "output_type": "execute_result"
        }
      ],
      "source": [
        "sum([p.numel() for p in model.parameters()])"
      ]
    },
    {
      "cell_type": "code",
      "execution_count": null,
      "metadata": {
        "id": "dQ7-n8uDG7U6",
        "outputId": "e31356f3-e25d-4912-987b-adb3b9f97a43"
      },
      "outputs": [
        {
          "data": {
            "text/plain": [
              "3737474"
            ]
          },
          "execution_count": 45,
          "metadata": {},
          "output_type": "execute_result"
        }
      ],
      "source": [
        "sum([p.numel() for p in model.parameters() if p.requires_grad == True])"
      ]
    },
    {
      "cell_type": "code",
      "execution_count": null,
      "metadata": {
        "id": "FVyQNL4GG7U6",
        "outputId": "35d1c975-33d5-4619-a245-b8e363edbfa3"
      },
      "outputs": [
        {
          "data": {
            "text/plain": [
              "1574402"
            ]
          },
          "execution_count": 46,
          "metadata": {},
          "output_type": "execute_result"
        }
      ],
      "source": [
        "first_model = nn.Sequential(\n",
        "                nn.Linear(3072, 512),\n",
        "                nn.Tanh(),\n",
        "                nn.Linear(512, 2),\n",
        "                nn.LogSoftmax(dim=1))\n",
        "\n",
        "sum([p.numel() for p in first_model.parameters()])"
      ]
    },
    {
      "cell_type": "code",
      "execution_count": null,
      "metadata": {
        "id": "7h7d_M0sG7U6",
        "outputId": "b28e473f-01f7-41d9-9270-d3eaf6a693c7"
      },
      "outputs": [
        {
          "data": {
            "text/plain": [
              "1573376"
            ]
          },
          "execution_count": 47,
          "metadata": {},
          "output_type": "execute_result"
        }
      ],
      "source": [
        "sum([p.numel() for p in nn.Linear(3072, 512).parameters()])"
      ]
    },
    {
      "cell_type": "code",
      "execution_count": null,
      "metadata": {
        "id": "tvxdgeQhG7U6",
        "outputId": "c98c3210-c6be-461b-b324-17b197f11c80"
      },
      "outputs": [
        {
          "data": {
            "text/plain": [
              "3146752"
            ]
          },
          "execution_count": 48,
          "metadata": {},
          "output_type": "execute_result"
        }
      ],
      "source": [
        "sum([p.numel() for p in nn.Linear(3072, 1024).parameters()])"
      ]
    },
    {
      "cell_type": "code",
      "execution_count": null,
      "metadata": {
        "id": "NiDBJGmiG7U7",
        "outputId": "7603be47-4a3a-44f3-d11f-bf29727d6791"
      },
      "outputs": [
        {
          "data": {
            "text/plain": [
              "(torch.Size([1024, 3072]), torch.Size([1024]))"
            ]
          },
          "execution_count": 49,
          "metadata": {},
          "output_type": "execute_result"
        }
      ],
      "source": [
        "linear = nn.Linear(3072, 1024)\n",
        "\n",
        "linear.weight.shape, linear.bias.shape"
      ]
    },
    {
      "cell_type": "code",
      "execution_count": null,
      "metadata": {
        "id": "_fBfQ31RG7U7"
      },
      "outputs": [],
      "source": [
        "conv = nn.Conv2d(3, 16, kernel_size=3)"
      ]
    },
    {
      "cell_type": "code",
      "execution_count": null,
      "metadata": {
        "id": "12a-B1F9G7U7",
        "outputId": "230ff417-2098-4c92-ef17-6f7757e3b161"
      },
      "outputs": [
        {
          "data": {
            "text/plain": [
              "torch.Size([16, 3, 3, 3])"
            ]
          },
          "execution_count": 51,
          "metadata": {},
          "output_type": "execute_result"
        }
      ],
      "source": [
        "conv.weight.shape"
      ]
    },
    {
      "cell_type": "code",
      "execution_count": null,
      "metadata": {
        "id": "ExK2i5bkG7U7",
        "outputId": "5fe7de9e-467d-4d41-e47d-f0cabd8ee6de"
      },
      "outputs": [
        {
          "data": {
            "text/plain": [
              "torch.Size([16])"
            ]
          },
          "execution_count": 52,
          "metadata": {},
          "output_type": "execute_result"
        }
      ],
      "source": [
        "conv.bias.shape"
      ]
    },
    {
      "cell_type": "code",
      "execution_count": null,
      "metadata": {
        "id": "paoDzluqG7U7"
      },
      "outputs": [],
      "source": [
        "img, _ = cifar2[0]\n",
        "\n",
        "output = conv(img.unsqueeze(0))"
      ]
    },
    {
      "cell_type": "code",
      "execution_count": null,
      "metadata": {
        "id": "VhK-z4DmG7U7",
        "outputId": "0aef0b43-503e-4352-c4e9-7608be5b657d"
      },
      "outputs": [
        {
          "data": {
            "text/plain": [
              "(torch.Size([1, 3, 32, 32]), torch.Size([1, 16, 30, 30]))"
            ]
          },
          "execution_count": 54,
          "metadata": {},
          "output_type": "execute_result"
        }
      ],
      "source": [
        "img.unsqueeze(0).shape, output.shape"
      ]
    },
    {
      "cell_type": "code",
      "execution_count": null,
      "metadata": {
        "id": "QuXZ0m4EG7U7",
        "outputId": "3d161f35-f087-4f87-c0b2-4b0474eb24fb"
      },
      "outputs": [
        {
          "name": "stderr",
          "output_type": "stream",
          "text": [
            "Clipping input data to the valid range for imshow with RGB data ([0..1] for floats or [0..255] for integers).\n"
          ]
        },
        {
          "data": {
            "image/png": "[encoded data removed]",
            "text/plain": [
              "<Figure size 432x288 with 1 Axes>"
            ]
          },
          "metadata": {
            "needs_background": "light"
          },
          "output_type": "display_data"
        }
      ],
      "source": [
        "plt.imshow(img.permute(1, 2, 0), cmap='gray')\n",
        "plt.show()"
      ]
    },
    {
      "cell_type": "code",
      "execution_count": null,
      "metadata": {
        "id": "g_9X5WveG7U7",
        "outputId": "cf0c8771-17e6-4728-ef0f-76c7dce139f2"
      },
      "outputs": [
        {
          "data": {
            "image/png": "[encoded data removed]",
            "text/plain": [
              "<Figure size 432x288 with 1 Axes>"
            ]
          },
          "metadata": {
            "needs_background": "light"
          },
          "output_type": "display_data"
        }
      ],
      "source": [
        "plt.imshow(output[0, 0].detach(), cmap='gray')\n",
        "plt.show()"
      ]
    },
    {
      "cell_type": "code",
      "execution_count": null,
      "metadata": {
        "id": "N-NfrPl9G7U7",
        "outputId": "186f70ae-e013-4f56-995e-5c4b28551717"
      },
      "outputs": [
        {
          "data": {
            "text/plain": [
              "torch.Size([1, 16, 30, 30])"
            ]
          },
          "execution_count": 57,
          "metadata": {},
          "output_type": "execute_result"
        }
      ],
      "source": [
        "output.shape"
      ]
    },
    {
      "cell_type": "code",
      "execution_count": null,
      "metadata": {
        "id": "AYYuph4FG7U8"
      },
      "outputs": [],
      "source": [
        "conv = nn.Conv2d(3, 1, kernel_size=3, padding=1)"
      ]
    },
    {
      "cell_type": "code",
      "execution_count": null,
      "metadata": {
        "id": "BbLlaZ6_G7U8",
        "outputId": "6fce7ae6-4132-4912-d1d7-c4b6bae24bc8"
      },
      "outputs": [
        {
          "data": {
            "text/plain": [
              "torch.Size([1, 1, 32, 32])"
            ]
          },
          "execution_count": 59,
          "metadata": {},
          "output_type": "execute_result"
        }
      ],
      "source": [
        "output = conv(img.unsqueeze(0))\n",
        "\n",
        "output.shape"
      ]
    },
    {
      "cell_type": "code",
      "execution_count": null,
      "metadata": {
        "id": "vNHL9FpWG7U8"
      },
      "outputs": [],
      "source": [
        "with torch.no_grad():\n",
        "    conv.bias.zero_()"
      ]
    },
    {
      "cell_type": "code",
      "execution_count": null,
      "metadata": {
        "id": "bGzr5vsdG7U8"
      },
      "outputs": [],
      "source": [
        "with torch.no_grad():\n",
        "    conv.weight.fill_(1.0 / 9.0)"
      ]
    },
    {
      "cell_type": "code",
      "execution_count": null,
      "metadata": {
        "id": "4m6MpUcRG7U8",
        "outputId": "d3b4932a-e9b4-4fc3-fbc3-2a5c13952636"
      },
      "outputs": [
        {
          "data": {
            "image/png": "[encoded data removed]",
            "text/plain": [
              "<Figure size 432x288 with 1 Axes>"
            ]
          },
          "metadata": {
            "needs_background": "light"
          },
          "output_type": "display_data"
        }
      ],
      "source": [
        "output = conv(img.unsqueeze(0))\n",
        "plt.imshow(output[0, 0].detach(), cmap='gray')\n",
        "plt.show()"
      ]
    },
    {
      "cell_type": "code",
      "execution_count": null,
      "metadata": {
        "id": "ZvBTjCzFG7U8"
      },
      "outputs": [],
      "source": [
        "conv = nn.Conv2d(3, 1, kernel_size=3, padding=1)\n",
        "\n",
        "with torch.no_grad():\n",
        "    conv.weight[:] = torch.tensor([[-1.0, 0.0, 1.0],\n",
        "                                   [-1.0, 0.0, 1.0],\n",
        "                                   [-1.0, 0.0, 1.0]])\n",
        "    conv.bias.zero_()"
      ]
    },
    {
      "cell_type": "code",
      "execution_count": null,
      "metadata": {
        "id": "CuMfG9yaG7U8",
        "outputId": "1831b0b0-7ef2-421b-b7ce-c5c1eea42caa"
      },
      "outputs": [
        {
          "data": {
            "image/png": "[encoded data removed]",
            "text/plain": [
              "<Figure size 432x288 with 1 Axes>"
            ]
          },
          "metadata": {
            "needs_background": "light"
          },
          "output_type": "display_data"
        }
      ],
      "source": [
        "output = conv(img.unsqueeze(0))\n",
        "plt.imshow(output[0, 0].detach(), cmap='gray')\n",
        "plt.show()"
      ]
    },
    {
      "cell_type": "code",
      "execution_count": null,
      "metadata": {
        "id": "tRkcMHR5G7U8"
      },
      "outputs": [],
      "source": [
        "pool = nn.MaxPool2d(2)"
      ]
    },
    {
      "cell_type": "code",
      "execution_count": null,
      "metadata": {
        "id": "NUIzzb31G7U8",
        "outputId": "16263c7e-cec0-48d8-cf45-3c6b83e39edd"
      },
      "outputs": [
        {
          "data": {
            "text/plain": [
              "torch.Size([1, 3, 16, 16])"
            ]
          },
          "execution_count": 66,
          "metadata": {},
          "output_type": "execute_result"
        }
      ],
      "source": [
        "output = pool(img.unsqueeze(0))\n",
        "\n",
        "output.shape"
      ]
    },
    {
      "cell_type": "code",
      "execution_count": null,
      "metadata": {
        "id": "rwURIkMjG7VB",
        "outputId": "91f8b05b-b438-42d3-ad7a-48e0f0f378d9"
      },
      "outputs": [
        {
          "ename": "TypeError",
          "evalue": "ellipsis is not a Module subclass",
          "output_type": "error",
          "traceback": [
            "\u001b[1;31m---------------------------------------------------------------------------\u001b[0m",
            "\u001b[1;31mTypeError\u001b[0m                                 Traceback (most recent call last)",
            "\u001b[1;32m<ipython-input-67-94807a3b1438>\u001b[0m in \u001b[0;36m<module>\u001b[1;34m\u001b[0m\n\u001b[0;32m      6\u001b[0m             \u001b[0mnn\u001b[0m\u001b[1;33m.\u001b[0m\u001b[0mTanh\u001b[0m\u001b[1;33m(\u001b[0m\u001b[1;33m)\u001b[0m\u001b[1;33m,\u001b[0m\u001b[1;33m\u001b[0m\u001b[0m\n\u001b[0;32m      7\u001b[0m             \u001b[0mnn\u001b[0m\u001b[1;33m.\u001b[0m\u001b[0mMaxPool2d\u001b[0m\u001b[1;33m(\u001b[0m\u001b[1;36m2\u001b[0m\u001b[1;33m)\u001b[0m\u001b[1;33m,\u001b[0m\u001b[1;33m\u001b[0m\u001b[0m\n\u001b[1;32m----> 8\u001b[1;33m             ...)\n\u001b[0m",
            "\u001b[1;32m~\\Miniconda3\\envs\\book\\lib\\site-packages\\torch\\nn\\modules\\container.py\u001b[0m in \u001b[0;36m__init__\u001b[1;34m(self, *args)\u001b[0m\n\u001b[0;32m     51\u001b[0m         \u001b[1;32melse\u001b[0m\u001b[1;33m:\u001b[0m\u001b[1;33m\u001b[0m\u001b[0m\n\u001b[0;32m     52\u001b[0m             \u001b[1;32mfor\u001b[0m \u001b[0midx\u001b[0m\u001b[1;33m,\u001b[0m \u001b[0mmodule\u001b[0m \u001b[1;32min\u001b[0m \u001b[0menumerate\u001b[0m\u001b[1;33m(\u001b[0m\u001b[0margs\u001b[0m\u001b[1;33m)\u001b[0m\u001b[1;33m:\u001b[0m\u001b[1;33m\u001b[0m\u001b[0m\n\u001b[1;32m---> 53\u001b[1;33m                 \u001b[0mself\u001b[0m\u001b[1;33m.\u001b[0m\u001b[0madd_module\u001b[0m\u001b[1;33m(\u001b[0m\u001b[0mstr\u001b[0m\u001b[1;33m(\u001b[0m\u001b[0midx\u001b[0m\u001b[1;33m)\u001b[0m\u001b[1;33m,\u001b[0m \u001b[0mmodule\u001b[0m\u001b[1;33m)\u001b[0m\u001b[1;33m\u001b[0m\u001b[0m\n\u001b[0m\u001b[0;32m     54\u001b[0m \u001b[1;33m\u001b[0m\u001b[0m\n\u001b[0;32m     55\u001b[0m     \u001b[1;32mdef\u001b[0m \u001b[0m_get_item_by_idx\u001b[0m\u001b[1;33m(\u001b[0m\u001b[0mself\u001b[0m\u001b[1;33m,\u001b[0m \u001b[0miterator\u001b[0m\u001b[1;33m,\u001b[0m \u001b[0midx\u001b[0m\u001b[1;33m)\u001b[0m\u001b[1;33m:\u001b[0m\u001b[1;33m\u001b[0m\u001b[0m\n",
            "\u001b[1;32m~\\Miniconda3\\envs\\book\\lib\\site-packages\\torch\\nn\\modules\\module.py\u001b[0m in \u001b[0;36madd_module\u001b[1;34m(self, name, module)\u001b[0m\n\u001b[0;32m    171\u001b[0m         \u001b[1;32mif\u001b[0m \u001b[1;32mnot\u001b[0m \u001b[0misinstance\u001b[0m\u001b[1;33m(\u001b[0m\u001b[0mmodule\u001b[0m\u001b[1;33m,\u001b[0m \u001b[0mModule\u001b[0m\u001b[1;33m)\u001b[0m \u001b[1;32mand\u001b[0m \u001b[0mmodule\u001b[0m \u001b[1;32mis\u001b[0m \u001b[1;32mnot\u001b[0m \u001b[1;32mNone\u001b[0m\u001b[1;33m:\u001b[0m\u001b[1;33m\u001b[0m\u001b[0m\n\u001b[0;32m    172\u001b[0m             raise TypeError(\"{} is not a Module subclass\".format(\n\u001b[1;32m--> 173\u001b[1;33m                 torch.typename(module)))\n\u001b[0m\u001b[0;32m    174\u001b[0m         \u001b[1;32melif\u001b[0m \u001b[1;32mnot\u001b[0m \u001b[0misinstance\u001b[0m\u001b[1;33m(\u001b[0m\u001b[0mname\u001b[0m\u001b[1;33m,\u001b[0m \u001b[0mtorch\u001b[0m\u001b[1;33m.\u001b[0m\u001b[0m_six\u001b[0m\u001b[1;33m.\u001b[0m\u001b[0mstring_classes\u001b[0m\u001b[1;33m)\u001b[0m\u001b[1;33m:\u001b[0m\u001b[1;33m\u001b[0m\u001b[0m\n\u001b[0;32m    175\u001b[0m             raise TypeError(\"module name should be a string. Got {}\".format(\n",
            "\u001b[1;31mTypeError\u001b[0m: ellipsis is not a Module subclass"
          ]
        }
      ],
      "source": [
        "model = nn.Sequential(\n",
        "            nn.Conv2d(3, 16, kernel_size=3, padding=1),\n",
        "            nn.Tanh(),\n",
        "            nn.MaxPool2d(2),\n",
        "            nn.Conv2d(16, 8, kernel_size=3, padding=1),\n",
        "            nn.Tanh(),\n",
        "            nn.MaxPool2d(2),\n",
        "            ...)"
      ]
    },
    {
      "cell_type": "code",
      "execution_count": null,
      "metadata": {
        "id": "XqrCaqOBG7VB"
      },
      "outputs": [],
      "source": [
        "model = nn.Sequential(\n",
        "            nn.Conv2d(3, 16, kernel_size=3, padding=1),\n",
        "            nn.Tanh(),\n",
        "            nn.MaxPool2d(2),\n",
        "            nn.Conv2d(16, 8, kernel_size=3, padding=1),\n",
        "            nn.Tanh(),\n",
        "            nn.MaxPool2d(2),\n",
        "            # WARNING: something missing here\n",
        "            nn.Linear(512, 32),\n",
        "            nn.Tanh(),\n",
        "            nn.Linear(32, 2))"
      ]
    },
    {
      "cell_type": "code",
      "execution_count": null,
      "metadata": {
        "id": "vPjYhRQxG7VC"
      },
      "outputs": [],
      "source": [
        "sum([p.numel() for p in model.parameters()])"
      ]
    },
    {
      "cell_type": "code",
      "execution_count": null,
      "metadata": {
        "id": "vqxAmLbEG7VC"
      },
      "outputs": [],
      "source": [
        "model(img.unsqueeze(0))"
      ]
    },
    {
      "cell_type": "code",
      "execution_count": null,
      "metadata": {
        "id": "v_Wjurv8G7VC"
      },
      "outputs": [],
      "source": [
        "class Net(nn.Module):\n",
        "    def __init__(self):\n",
        "        super(Net, self).__init__()\n",
        "        self.conv1 = nn.Conv2d(3, 16, kernel_size=3, padding=1)\n",
        "        self.act1 = nn.Tanh()\n",
        "        self.pool1 = nn.MaxPool2d(2)\n",
        "        self.conv2 = nn.Conv2d(16, 8, kernel_size=3, padding=1)\n",
        "        self.act2 = nn.Tanh()\n",
        "        self.pool2 = nn.MaxPool2d(2)\n",
        "        self.fc1 = nn.Linear(8 * 8 * 8, 32)\n",
        "        self.act4 = nn.Tanh()\n",
        "        self.fc2 = nn.Linear(32, 2)\n",
        "\n",
        "    def forward(self, x):\n",
        "        out = self.pool1(self.act1(self.conv1(x)))\n",
        "        out = self.pool2(self.act2(self.conv2(out)))\n",
        "        out = out.view(-1, 8 * 8 * 8)\n",
        "        out = self.act4(self.fc1(out))\n",
        "        out = self.fc2(out)\n",
        "        return out"
      ]
    },
    {
      "cell_type": "code",
      "execution_count": null,
      "metadata": {
        "id": "qWyMW3iWG7VC"
      },
      "outputs": [],
      "source": [
        "model = Net()\n",
        "\n",
        "sum([p.numel() for p in model.parameters()])"
      ]
    },
    {
      "cell_type": "code",
      "execution_count": null,
      "metadata": {
        "id": "-wb67DJQG7VC"
      },
      "outputs": [],
      "source": [
        "import torch.nn.functional as F\n",
        "\n",
        "class Net(nn.Module):\n",
        "    def __init__(self):\n",
        "        super(Net, self).__init__()\n",
        "        self.conv1 = nn.Conv2d(3, 16, kernel_size=3, padding=1)\n",
        "        self.conv2 = nn.Conv2d(16, 8, kernel_size=3, padding=1)\n",
        "        self.fc1 = nn.Linear(8 * 8 * 8, 32)\n",
        "        self.fc2 = nn.Linear(32, 2)\n",
        "\n",
        "    def forward(self, x):\n",
        "        out = F.max_pool2d(torch.tanh(self.conv1(x)), 2)\n",
        "        out = F.max_pool2d(torch.tanh(self.conv2(out)), 2)\n",
        "        out = out.view(-1, 8 * 8 * 8)\n",
        "        out = torch.tanh(self.fc1(out))\n",
        "        out = self.fc2(out)\n",
        "        return out"
      ]
    },
    {
      "cell_type": "code",
      "execution_count": null,
      "metadata": {
        "id": "Og98kFAWG7VC"
      },
      "outputs": [],
      "source": [
        "model = Net()\n",
        "model(img.unsqueeze(0))"
      ]
    },
    {
      "cell_type": "code",
      "execution_count": null,
      "metadata": {
        "id": "0967qCDrG7VC"
      },
      "outputs": [],
      "source": [
        "import torch\n",
        "import torch.nn as nn\n",
        "import torch.nn.functional as F\n",
        "\n",
        "train_loader = torch.utils.data.DataLoader(cifar2, batch_size=64,\n",
        "                                           shuffle=True)\n",
        "\n",
        "class Net(nn.Module):\n",
        "    def __init__(self):\n",
        "        super(Net, self).__init__()\n",
        "        self.conv1 = nn.Conv2d(3, 16, kernel_size=3, padding=1)\n",
        "        self.conv2 = nn.Conv2d(16, 8, kernel_size=3, padding=1)\n",
        "        self.fc1 = nn.Linear(8 * 8 * 8, 32)\n",
        "        self.fc2 = nn.Linear(32, 2)\n",
        "\n",
        "    def forward(self, x):\n",
        "        out = F.max_pool2d(torch.relu(self.conv1(x)), 2)\n",
        "        out = F.max_pool2d(torch.relu(self.conv2(out)), 2)\n",
        "        out = out.view(-1, 8 * 8 * 8)\n",
        "        out = torch.tanh(self.fc1(out))\n",
        "        out = self.fc2(out)\n",
        "        return out\n",
        "\n",
        "model = Net()\n",
        "\n",
        "learning_rate = 1e-2\n",
        "\n",
        "optimizer = optim.SGD(model.parameters(), lr=learning_rate)\n",
        "\n",
        "loss_fn = nn.CrossEntropyLoss()\n",
        "\n",
        "n_epochs = 100\n",
        "\n",
        "for epoch in range(n_epochs):\n",
        "    for imgs, labels in train_loader:\n",
        "        outputs = model(imgs)\n",
        "        loss = loss_fn(outputs, labels)\n",
        "\n",
        "        optimizer.zero_grad()\n",
        "        loss.backward()\n",
        "        optimizer.step()\n",
        "\n",
        "    print(\"Epoch: %d, Loss: %f\" % (epoch, float(loss)))"
      ]
    },
    {
      "cell_type": "code",
      "execution_count": null,
      "metadata": {
        "id": "6dz3eLXeG7VD"
      },
      "outputs": [],
      "source": [
        "train_loader = torch.utils.data.DataLoader(cifar2, batch_size=64,\n",
        "                                           shuffle=False)\n",
        "\n",
        "correct = 0\n",
        "total = 0\n",
        "\n",
        "with torch.no_grad():\n",
        "    for imgs, labels in train_loader:\n",
        "        outputs = model(imgs)\n",
        "        _, predicted = torch.max(outputs, dim=1)\n",
        "        total += labels.shape[0]\n",
        "        correct += int((predicted == labels).sum())\n",
        "\n",
        "print(\"Accuracy: %f\" % (correct / total))"
      ]
    },
    {
      "cell_type": "code",
      "execution_count": null,
      "metadata": {
        "id": "ChzcjQrdG7VD"
      },
      "outputs": [],
      "source": [
        "val_loader = torch.utils.data.DataLoader(cifar2_val, batch_size=64,\n",
        "                                         shuffle=False)\n",
        "\n",
        "correct = 0\n",
        "total = 0\n",
        "\n",
        "with torch.no_grad():\n",
        "    for imgs, labels in val_loader:\n",
        "        outputs = model(imgs)\n",
        "        _, predicted = torch.max(outputs, dim=1)\n",
        "        total += labels.shape[0]\n",
        "        correct += int((predicted == labels).sum())\n",
        "\n",
        "print(\"Accuracy: %f\" % (correct / total))"
      ]
    },
    {
      "cell_type": "code",
      "execution_count": null,
      "metadata": {
        "id": "1cZPUbJOG7VD"
      },
      "outputs": [],
      "source": [
        "import torch\n",
        "import torch.nn as nn\n",
        "import torch.nn.functional as F\n",
        "\n",
        "class Net(nn.Module):\n",
        "    def __init__(self):\n",
        "        super(Net, self).__init__()\n",
        "        self.conv1 = nn.Conv2d(3, 16, kernel_size=3, padding=1)\n",
        "        self.conv2 = nn.Conv2d(16, 8, kernel_size=3, padding=1)\n",
        "        self.fc1 = nn.Linear(8 * 8 * 8, 32)\n",
        "        self.fc2 = nn.Linear(32, 2)\n",
        "\n",
        "    def forward(self, x):\n",
        "        out = F.max_pool2d(torch.relu(self.conv1(x)), 2)\n",
        "        out = F.max_pool2d(torch.relu(self.conv2(out)), 2)\n",
        "        out = out.view(-1, 8 * 8 * 8)\n",
        "        out = torch.tanh(self.fc1(out))\n",
        "        out = self.fc2(out)\n",
        "        return out\n",
        "\n",
        "model = Net()\n",
        "sum([p.numel() for p in model.parameters()])"
      ]
    },
    {
      "cell_type": "code",
      "execution_count": null,
      "metadata": {
        "id": "1M7sCoD1G7VD"
      },
      "outputs": [],
      "source": [
        "model = nn.Sequential(\n",
        "            nn.Conv2d(3, 16, kernel_size=3, padding=1),\n",
        "            nn.Tanh(),\n",
        "            nn.MaxPool2d(2),\n",
        "            nn.Conv2d(16, 8, kernel_size=3, padding=1),\n",
        "            nn.Tanh(),\n",
        "            nn.MaxPool2d(2),\n",
        "            nn.Linear(8*8*8, 32),\n",
        "            nn.Tanh(),\n",
        "            nn.Linear(32, 2))\n",
        "\n",
        "model(img.unsqueeze(0))"
      ]
    }
  ],
  "metadata": {
    "kernelspec": {
      "display_name": "Python 3",
      "name": "python3"
    },
    "language_info": {
      "codemirror_mode": {
        "name": "ipython",
        "version": 3
      },
      "file_extension": ".py",
      "mimetype": "text/x-python",
      "name": "python",
      "nbconvert_exporter": "python",
      "pygments_lexer": "ipython3",
      "version": "3.7.6"
    },
    "colab": {
      "provenance": [],
      "gpuType": "T4"
    },
    "accelerator": "GPU"
  },
  "nbformat": 4,
  "nbformat_minor": 0
}